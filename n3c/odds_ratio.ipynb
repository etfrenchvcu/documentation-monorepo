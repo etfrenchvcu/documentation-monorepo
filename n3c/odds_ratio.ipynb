{
 "cells": [
  {
   "attachments": {},
   "cell_type": "markdown",
   "metadata": {},
   "source": [
    "# Calculate odds ratios\n",
    "Sample code to calculate odds ratios, p-values, and 95% for rates\n",
    "of chemosensory changes in COVID patients during successive waves of COVID.\n",
    "\n",
    "Reproduces the analysis published in [Decreasing Incidence of Chemosensory Changes by COVID-19 Variant](https://journals.sagepub.com/doi/abs/10.1177/01945998221097656),\n",
    "although the confidence intervals differ slightly because I used an \n",
    "[online calculator](https://www.medcalc.org/calc/odds_ratio.php) to compute \n",
    "them for the paper.\n"
   ]
  },
  {
   "cell_type": "code",
   "execution_count": null,
   "metadata": {},
   "outputs": [],
   "source": [
    "from math import isclose\n",
    "import numpy as np\n",
    "import pandas as pd\n",
    "from scipy.stats import fisher_exact\n",
    "from scipy.stats.contingency import odds_ratio"
   ]
  },
  {
   "cell_type": "code",
   "execution_count": null,
   "metadata": {},
   "outputs": [],
   "source": [
    "# Create dataset using previously published counts.\n",
    "data = [\n",
    "    [0, 117904, 73947, 150713, 281291],\n",
    "    [1, 1499, 470, 892, 570]\n",
    "]\n",
    "cols = ['smell_taste_loss', 'untyped_42', 'alpha_42', 'delta_42', 'omicron_42']\n",
    "df = pd.DataFrame(data, columns=cols).sort_values('smell_taste_loss')\n",
    "df"
   ]
  },
  {
   "cell_type": "code",
   "execution_count": null,
   "metadata": {},
   "outputs": [],
   "source": [
    "def calculate_odds_ratio(two_by_two: pd.DataFrame):\n",
    "    \"\"\"Calculates the odds ratio, 95% CI, and p-values for a 2x2 matrix\"\"\"\n",
    "\n",
    "    fisher_or, pvalue = fisher_exact(two_by_two)\n",
    "    res = odds_ratio(two_by_two)\n",
    "    contingency_or = res.statistic\n",
    "    lower_ci, upper_ci = res.confidence_interval()\n",
    "\n",
    "    # Round values to four significant digits.\n",
    "    fisher_or, pvalue, lower_ci, upper_ci = tuple(\n",
    "        [round(x,4) for x in (fisher_or, pvalue, lower_ci, upper_ci)])\n",
    "    return fisher_or, pvalue, (lower_ci, upper_ci)\n"
   ]
  },
  {
   "cell_type": "code",
   "execution_count": null,
   "metadata": {},
   "outputs": [],
   "source": [
    "# Calculate odds ratios for each wave vs. untyped.\n",
    "wave_cols = [c for c in df.columns if '42' in c]\n",
    "wave_stats = []\n",
    "for wave in wave_cols:    \n",
    "    if wave != 'untyped_42':        \n",
    "        two_by_two = df[['untyped_42', wave]]\n",
    "        odds, p, ci = calculate_odds_ratio(two_by_two)\n",
    "    else:\n",
    "        two_by_two = df[['untyped_42']]\n",
    "        odds = p = ci = '-'\n",
    "\n",
    "    covid = two_by_two[wave].min()\n",
    "    control = two_by_two[wave].max()\n",
    "    total = two_by_two[wave].sum()\n",
    "    prevalence = (covid / total).round(4)\n",
    "    wave_stats.append([covid, control, total, prevalence, odds, p, str(ci)])\n",
    "cols = ['covid', 'control', 'total', 'prevalence', 'odds_ratio', 'p_value', \n",
    "        'CI_95']\n",
    "wave_stats = pd.DataFrame(wave_stats, columns=cols, index=wave_cols)\n",
    "wave_stats = wave_stats.reset_index().rename(columns={'index':'wave'})\n",
    "wave_stats"
   ]
  },
  {
   "attachments": {},
   "cell_type": "markdown",
   "metadata": {},
   "source": [
    "# Intra-wave odds ratios by disease severity"
   ]
  },
  {
   "cell_type": "code",
   "execution_count": null,
   "metadata": {},
   "outputs": [],
   "source": [
    "# Create a dummy dataset of severity and S/T loss\n",
    "data = [\n",
    "    ['Mild', 0, 80],\n",
    "    ['Moderate', 0, 15],\n",
    "    ['Severe', 0, 5],\n",
    "    ['Mild', 1, 40],\n",
    "    ['Moderate', 1, 7],\n",
    "    ['Severe', 1, 3]\n",
    "]\n",
    "df = pd.DataFrame(data, columns=['severity', 'smell_taste_loss', 'untyped_42'])\n",
    "df"
   ]
  },
  {
   "cell_type": "code",
   "execution_count": null,
   "metadata": {},
   "outputs": [],
   "source": [
    "# Calculate odds ratios for moderate and severe disease vs. mild.\n",
    "def get_count(df: pd.DataFrame, severity: str, smell_taste_loss: int, \n",
    "              wave: str):\n",
    "    \"\"\"Gets a count from the dataframe for the given parameters\"\"\"\n",
    "    row = df[(df.severity==severity)&(df.smell_taste_loss==smell_taste_loss)]\n",
    "    return row[wave].values[0]\n",
    "\n",
    "wave_cols = [c for c in df.columns if '42' in c]\n",
    "severities = ['Mild', 'Moderate', 'Severe']\n",
    "rows = []\n",
    "for wave in wave_cols:\n",
    "    # Wave control (Mild) counts\n",
    "    control_mild = get_count(df, 'Mild', 0, wave)\n",
    "    st_mild = get_count(df, 'Mild', 1, wave)\n",
    "\n",
    "    for severity in severities:\n",
    "        control_severity = get_count(df, severity, 0, wave)\n",
    "        st_severity = get_count(df, severity, 1, wave)\n",
    "\n",
    "        if severity == 'Mild':\n",
    "            odds = p = ci = '-'\n",
    "        else:\n",
    "            data = [[control_mild, control_severity],[st_mild, st_severity]]\n",
    "            two_by_two = pd.DataFrame(data)\n",
    "            odds, p, ci = calculate_odds_ratio(two_by_two)\n",
    "\n",
    "        row = (wave, severity, control_severity, st_severity, odds, p, ci)\n",
    "        rows.append(row)\n",
    "pd.DataFrame(rows, \n",
    "    columns=['wave', 'severity', 'No_ST_Loss', 'ST_Loss', 'OR', 'p', 'CI_95'])"
   ]
  }
 ],
 "metadata": {
  "kernelspec": {
   "display_name": "env",
   "language": "python",
   "name": "python3"
  },
  "language_info": {
   "codemirror_mode": {
    "name": "ipython",
    "version": 3
   },
   "file_extension": ".py",
   "mimetype": "text/x-python",
   "name": "python",
   "nbconvert_exporter": "python",
   "pygments_lexer": "ipython3",
   "version": "3.8.3 (tags/v3.8.3:6f8c832, May 13 2020, 22:37:02) [MSC v.1924 64 bit (AMD64)]"
  },
  "vscode": {
   "interpreter": {
    "hash": "1c165fb6af4fb43fceb331ba6b8c8a711623f803981e3e66fed9990ff75c68af"
   }
  }
 },
 "nbformat": 4,
 "nbformat_minor": 2
}
