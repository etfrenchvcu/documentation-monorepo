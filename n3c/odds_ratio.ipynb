{
 "cells": [
  {
   "attachments": {},
   "cell_type": "markdown",
   "metadata": {},
   "source": [
    "# Calculate odds ratios\n",
    "Sample code to calculate odds ratios, p-values, and 95% for rates\n",
    "of chemosensory changes in COVID patients during successive waves of COVID.\n",
    "\n",
    "Similar to the analysis published in [Decreasing Incidence of Chemosensory Changes by COVID-19 Variant](https://journals.sagepub.com/doi/abs/10.1177/01945998221097656),\n",
    "but using different intervals.\n"
   ]
  },
  {
   "cell_type": "code",
   "execution_count": null,
   "metadata": {},
   "outputs": [],
   "source": [
    "from math import isclose\n",
    "import numpy as np\n",
    "import pandas as pd\n",
    "from scipy.stats import fisher_exact\n",
    "from scipy.stats.contingency import odds_ratio\n",
    "import warnings; warnings.simplefilter('ignore')"
   ]
  },
  {
   "cell_type": "code",
   "execution_count": null,
   "metadata": {},
   "outputs": [],
   "source": [
    "def calculate_odds_ratio(two_by_two: pd.DataFrame):\n",
    "    \"\"\"Calculates the odds ratio, 95% CI, and p-values for a 2x2 matrix\"\"\"\n",
    "\n",
    "    fisher_or, pvalue = fisher_exact(two_by_two)\n",
    "    res = odds_ratio(two_by_two)\n",
    "    contingency_or = res.statistic\n",
    "    lower_ci, upper_ci = res.confidence_interval()\n",
    "\n",
    "    # Round values to four significant digits.\n",
    "    fisher_or, pvalue, lower_ci, upper_ci = tuple(\n",
    "        [round(x,4) for x in (fisher_or, pvalue, lower_ci, upper_ci)])\n",
    "    return fisher_or, pvalue, (lower_ci, upper_ci)\n",
    "\n",
    "def get_or_by_wave(df):\n",
    "    \"\"\"Calculate odds ratios for successive waves compared to initial wave.\"\"\"\n",
    "    waves = list(df.wave)\n",
    "    base_wave = waves[0]\n",
    "    wave_stats = []\n",
    "    cols = ['wave', 'non_st_loss', 'st_loss']\n",
    "    for wave in waves:\n",
    "        two_by_two = (df[df.wave.isin([base_wave, wave])][cols]\n",
    "                .set_index('wave').T)\n",
    "\n",
    "        # Calculate OR\n",
    "        if wave != base_wave:\n",
    "            odds, p, ci = calculate_odds_ratio(two_by_two)\n",
    "        else:\n",
    "            odds = 1\n",
    "            p = ci = '-'\n",
    "\n",
    "        st_loss = two_by_two[wave].min()\n",
    "        non_st_loss = two_by_two[wave].max()\n",
    "        total = two_by_two[wave].sum()\n",
    "        prevalence = (st_loss / total).round(4)\n",
    "        wave_stats.append(\n",
    "            [st_loss, non_st_loss, total, prevalence, odds, p, str(ci)])\n",
    "\n",
    "    cols = ['st_loss', 'non_st_loss', 'total', 'prevalence', 'odds_ratio', \n",
    "            'p_value', 'CI_95']\n",
    "    wave_stats = pd.DataFrame(wave_stats, columns=cols, index=waves)\n",
    "    wave_stats = wave_stats.reset_index().rename(columns={'index':'wave'})\n",
    "    return wave_stats\n",
    "\n",
    "def sig(p):\n",
    "    \"Gets * string corresponding to the significance of the p-value\"\n",
    "    p = float(p)\n",
    "    if p < 0.001:\n",
    "        return '***'\n",
    "    elif p < 0.01:\n",
    "        return '**'\n",
    "    elif p < 0.05:\n",
    "        return '*'\n",
    "    return ''"
   ]
  },
  {
   "cell_type": "code",
   "execution_count": null,
   "metadata": {},
   "outputs": [],
   "source": [
    "# Calculate odds ratios in COVID+ cohort with alpha as baseline.\n",
    "df = pd.read_csv(\"data/st_wave_covid.csv\").sort_values('ordinal')\n",
    "df = df[df.ordinal > 0] # Remove \"untyped\" wave\n",
    "covid_alpha_or = get_or_by_wave(df)\n",
    "# covid_alpha_or.to_csv('out/covid_alpha_or.csv', index=False)\n",
    "covid_alpha_or"
   ]
  },
  {
   "cell_type": "code",
   "execution_count": null,
   "metadata": {},
   "outputs": [],
   "source": [
    "# COVID- alpha baseline\n",
    "df = pd.read_csv(\"data/st_wave_control.csv\").sort_values('ordinal')\n",
    "df = df[df.ordinal > 0] # Remove \"untyped\" wave\n",
    "control_alpha_or = get_or_by_wave(df)\n",
    "# control_alpha_or.to_csv('out/control_alpha_or.csv', index=False)\n",
    "control_alpha_or"
   ]
  },
  {
   "cell_type": "code",
   "execution_count": null,
   "metadata": {},
   "outputs": [],
   "source": [
    "# Progressively use each wave as a baseline for calculating odds ratios\n",
    "all_waves = pd.read_csv(\"data/st_wave_covid.csv\").sort_values('ordinal')\n",
    "final = all_waves[['wave', 'prevalence']]\n",
    "\n",
    "for i, wave in enumerate(all_waves.wave):\n",
    "    if wave == list(all_waves.wave)[-1]:\n",
    "        break\n",
    "    wave_subset = all_waves[all_waves.ordinal >= i]\n",
    "    df = get_or_by_wave(wave_subset)\n",
    "    all_odds = df[['odds_ratio', 'p_value']].values[1:]\n",
    "    ors = [(str(odds) + sig(p)) for odds, p in all_odds]\n",
    "    col = wave.replace('wave', 'base')\n",
    "    final[col] = (['-'] * (i+1)) + ors\n",
    "final"
   ]
  }
 ],
 "metadata": {
  "kernelspec": {
   "display_name": "env",
   "language": "python",
   "name": "python3"
  },
  "language_info": {
   "codemirror_mode": {
    "name": "ipython",
    "version": 3
   },
   "file_extension": ".py",
   "mimetype": "text/x-python",
   "name": "python",
   "nbconvert_exporter": "python",
   "pygments_lexer": "ipython3",
   "version": "3.8.3"
  },
  "vscode": {
   "interpreter": {
    "hash": "1c165fb6af4fb43fceb331ba6b8c8a711623f803981e3e66fed9990ff75c68af"
   }
  }
 },
 "nbformat": 4,
 "nbformat_minor": 2
}
