{
 "cells": [
  {
   "attachments": {},
   "cell_type": "markdown",
   "metadata": {},
   "source": [
    "# A rule-based NLP pipeline using MedSpaCy\n",
    "The following script defines a medspaCy pipeline which identifies mentions of \n",
    "alcohol and family members in clinical notes."
   ]
  },
  {
   "cell_type": "code",
   "execution_count": null,
   "metadata": {},
   "outputs": [],
   "source": [
    "import medspacy\n",
    "from medspacy.ner import TargetRule\n",
    "from medspacy.preprocess import Preprocessor, PreprocessingRule\n",
    "from medspacy.postprocess import (Postprocessor, PostprocessingRule, \n",
    "    PostprocessingPattern, postprocessing_functions)\n",
    "from medspacy.visualization import visualize_ent\n",
    "from spacy.tokens import Doc, Span"
   ]
  },
  {
   "cell_type": "code",
   "execution_count": null,
   "metadata": {},
   "outputs": [],
   "source": [
    "# Instantiate MedSpaCy pipeline\n",
    "nlp = medspacy.load()\n",
    "target_matcher = nlp.get_pipe(\"medspacy_target_matcher\")\n",
    "\n",
    "# Define extensions\n",
    "def has_alcohol(doc):\n",
    "    \"Function for checking if a span or doc contains an ALCOHOL named entity\"\n",
    "    return any('ALCOHOL' in e.label_ for e in doc.ents)\n",
    "\n",
    "Doc.set_extension(\"id\", default=None, force=True)\n",
    "Doc.set_extension(\"has_alcohol\", getter=has_alcohol, force=True)\n",
    "Span.set_extension(\"has_alcohol\", getter=has_alcohol, force=True)\n",
    "\n",
    "# Define rule-based patterns\n",
    "rules = [\n",
    "    TargetRule(\"alcohol\", \"ALCOHOL\", pattern=r\"alcohol[a-z]*\"),\n",
    "    TargetRule(\"drink\", \"ALCOHOL\", pattern=r\"dr[aiu]nk\"),\n",
    "    TargetRule(\"aud\", \"ALCOHOL\", pattern=[{\"LOWER\": \"aud\"}]),\n",
    "    TargetRule(\"fetal_alcohol\", \"ALCOHOL\", \n",
    "        pattern=r\"fetal alcohol( syndrome)?\"),\n",
    "    TargetRule(\"family\", \"FAMILY\", \n",
    "        pattern=r\"((father)|(mother)|(aunt)|(uncle)|(brother)|(sister)|(sibling)|(cousin))(?![a-rt-z])\"),\n",
    "]\n",
    "target_matcher.add(rules)\n",
    "\n",
    "# Pre-processing rules\n",
    "preprocess_rules = [    \n",
    "    PreprocessingRule(\n",
    "        r\"\\[\\*\\*[\\d]{1,4}-[\\d]{1,2}(-[\\d]{1,2})?\\*\\*\\]\",\n",
    "        repl=\"01-01-2010\",\n",
    "        desc=\"Replace MIMIC date brackets with a generic date.\"\n",
    "    ),    \n",
    "    PreprocessingRule(\n",
    "        r\"\\[\\*\\*[\\d]{4}\\*\\*\\]\",\n",
    "        repl=\"2010\",\n",
    "        desc=\"Replace MIMIC year brackets with a generic year.\"\n",
    "    ),    \n",
    "        PreprocessingRule(\n",
    "        r\"\\[\\*\\*[^\\]]*(name)[^\\]]+\\]\", \n",
    "        repl=\"FRED\", \n",
    "        desc=\"Remove all name bracketed placeholder text from MIMIC\"\n",
    "    ),    \n",
    "        PreprocessingRule(\n",
    "        r\"\\[\\*\\*[^\\]]*(telephone)[^\\]]+\\]\", \n",
    "        repl=\"555-555-5555\", \n",
    "        desc=\"Remove all telephone bracketed placeholder text from MIMIC\"\n",
    "    ),    \n",
    "        PreprocessingRule(\n",
    "        r\"\\[\\*\\*[^\\]]+\\]\", \n",
    "        desc=\"Remove all other bracketed placeholder text from MIMIC\"\n",
    "    )\n",
    "]\n",
    "preprocessor = Preprocessor(nlp.tokenizer)\n",
    "nlp.tokenizer = preprocessor\n",
    "preprocessor.add(preprocess_rules)\n",
    "\n",
    "# Add medical section parser\n",
    "sectionizer = nlp.add_pipe(\"medspacy_sectionizer\")"
   ]
  },
  {
   "cell_type": "code",
   "execution_count": null,
   "metadata": {},
   "outputs": [],
   "source": [
    "# Run pipeline on a sample note.\n",
    "note = \"\"\"\n",
    "allergies: \n",
    "alcohol\n",
    "\n",
    "social history: \n",
    "Patient was born with fetal alcohol syndrome.\n",
    "\n",
    "family history: \n",
    "Mother was diagnosed with AUD.\n",
    "\"\"\"\n",
    "doc = nlp(note.lower())\n",
    "visualize_ent(doc)"
   ]
  }
 ],
 "metadata": {
  "kernelspec": {
   "display_name": "env",
   "language": "python",
   "name": "python3"
  },
  "language_info": {
   "codemirror_mode": {
    "name": "ipython",
    "version": 3
   },
   "file_extension": ".py",
   "mimetype": "text/x-python",
   "name": "python",
   "nbconvert_exporter": "python",
   "pygments_lexer": "ipython3",
   "version": "3.8.3 (tags/v3.8.3:6f8c832, May 13 2020, 22:37:02) [MSC v.1924 64 bit (AMD64)]"
  },
  "vscode": {
   "interpreter": {
    "hash": "1c165fb6af4fb43fceb331ba6b8c8a711623f803981e3e66fed9990ff75c68af"
   }
  }
 },
 "nbformat": 4,
 "nbformat_minor": 2
}
