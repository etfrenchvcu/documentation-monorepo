{
 "cells": [
  {
   "attachments": {},
   "cell_type": "markdown",
   "metadata": {},
   "source": [
    "# Load American Community Survery (ACS) census data\n",
    "This notebook queries ACS census counts from census.gov, aggregates them by \n",
    "groupings defined in the configuration file data/acs_variables.csv, and exports \n",
    "a custom .csv file with one record per geographic level (tract or ZCTA) and one\n",
    "column per configured field.\n",
    "\n",
    "> Pre-requisites\n",
    "> - Add ACS concepts of interest and field aggregations to data/acs_variables.csv"
   ]
  },
  {
   "cell_type": "code",
   "execution_count": null,
   "metadata": {},
   "outputs": [],
   "source": [
    "import numpy as np\n",
    "import os\n",
    "import pandas as pd\n",
    "\n",
    "import censusdata\n",
    "import geopandas as gpd\n",
    "import matplotlib.pyplot as plt\n",
    "from us import states"
   ]
  },
  {
   "cell_type": "code",
   "execution_count": null,
   "metadata": {},
   "outputs": [],
   "source": [
    "geo = censusdata.censusgeo([('state', states.VA.fips), ('tract', '*')])\n",
    "df = censusdata.download(src='acs5', year=2019, geo=geo, var=list(acs_vars.variable)[:1])\n",
    "df.head()"
   ]
  },
  {
   "cell_type": "code",
   "execution_count": null,
   "metadata": {},
   "outputs": [],
   "source": [
    "def get_va_acs(level: str, year:int, acs_vars: pd.DataFrame):\n",
    "    \"\"\"Method to get American Community Survey census data for Virginia.\"\"\"\n",
    "\n",
    "    if level not in ['tract', 'zip code tabulation area']:\n",
    "        raise ValueError(f\"\"\"Invalid level argument given. Options are 'tract' \n",
    "            and 'zip code tabulation area'.\"\"\") \n",
    "\n",
    "    geo = censusdata.censusgeo([('state', states.VA.fips), (level, '*')])\n",
    "    vars = list(set(acs_vars.variable))\n",
    "    acs_data = censusdata.download(src='acs5', year=year, geo=geo, var=vars)\n",
    "\n",
    "    # Reset index to be geographic identifier (Tract or ZCTA).\n",
    "    if level == 'tract':\n",
    "        acs_data['IX'] = [''.join(x[1] for x in g.geo) for g in acs_data.index]\n",
    "    else:\n",
    "        acs_data['IX'] = [x.geo[-1][1] for x in acs_data.index]\n",
    "    acs_data.set_index('IX', inplace=True)\n",
    "\n",
    "    # Merge variables and create output columns.\n",
    "    for field, data in acs_vars.groupby('field'):\n",
    "        cols = list(data.variable)\n",
    "        acs_data[field] = acs_data[cols].sum(axis=1)\n",
    "\n",
    "    # Drop original ACS variable named columns.\n",
    "    acs_data.drop(columns=vars, inplace=True)\n",
    "    return acs_data\n",
    "\n",
    "def verify_aggregation(acs_data: pd.DataFrame, acs_vars: pd.DataFrame):\n",
    "    \"\"\"Verify that all aggregations sum to the total for every level of\n",
    "    geographic aggregation.\n",
    "    \"\"\"\n",
    "\n",
    "    if 'total' not in acs_data:\n",
    "        raise ValueError(f\"\"\"Input acs_data must contain a 'total' column.\"\"\")\n",
    "\n",
    "    total_sum = np.array(acs_data.total)\n",
    "    categories = [c for c in set(acs_vars.category)]\n",
    "    for cat in categories:\n",
    "        print(f'Checking {cat}...')\n",
    "        cols = [c for c in acs_data if c.startswith(cat)]\n",
    "        cat_sum = np.array(acs_data[cols]).sum(axis=1)\n",
    "        assert all(total_sum == cat_sum), f'{cat} does not sum to total'\n",
    "\n",
    "def export_va_acs(level: str, start_year:int, end_year:int, \n",
    "                  acs_vars: pd.DataFrame):\n",
    "    \"\"\"Load verify, and export ACS data across multiple years\"\"\"\n",
    "\n",
    "    # Query ACS data by year\n",
    "    acs_data = []\n",
    "    for year in range(start_year, end_year+1):\n",
    "        year_df = get_va_acs(level=level, year=year, acs_vars=acs_vars)\n",
    "        year_df.insert(0, 'year', year)\n",
    "        acs_data.append(year_df)\n",
    "\n",
    "    #\n",
    "    acs_data = pd.concat(acs_data)\n",
    "    verify_aggregation(acs_data, acs_vars)\n",
    "    agg = 'zcta' if level == 'zip code tabulation area' else level\n",
    "    acs_data.index.name = agg\n",
    "    acs_data.to_csv(f'out/acs_{agg}_buckets_year.csv', index=True)\n",
    "    return acs_data"
   ]
  },
  {
   "cell_type": "code",
   "execution_count": null,
   "metadata": {},
   "outputs": [],
   "source": [
    "# Load ACS variable configuration from file.\n",
    "acs_vars = pd.read_csv('data/acs_variables.csv')\n",
    "\n",
    "# Export ACS data\n",
    "export_va_acs('tract', 2015, 2019, acs_vars)\n",
    "export_va_acs('zip code tabulation area', 2015, 2019, acs_vars)\n"
   ]
  },
  {
   "attachments": {},
   "cell_type": "markdown",
   "metadata": {},
   "source": [
    "## Create a heatmap to visualize population data\n",
    "This is nice for showing things like disease prevalence, etc. For demonstration\n",
    "purposes, we'll just show the rate of kids per 100k residents by ZCTA in VA."
   ]
  },
  {
   "cell_type": "code",
   "execution_count": null,
   "metadata": {},
   "outputs": [],
   "source": [
    "# Download ZCTA-level shape data from the census bureau.\n",
    "URL = 'https://www2.census.gov/geo/tiger/TIGER2019/ZCTA5/tl_2019_us_zcta510.zip'\n",
    "zcta_shape = gpd.read_file(URL)[['ZCTA5CE10', 'geometry']]\n",
    "zcta_shape.set_index('ZCTA5CE10', inplace=True)\n",
    "zcta_shape.head()"
   ]
  },
  {
   "cell_type": "code",
   "execution_count": null,
   "metadata": {},
   "outputs": [],
   "source": [
    "peds_df = acs_zcta[['total', 'under_18_yes']]\n",
    "peds_df.loc[:,'peds_100k'] = (peds_df['under_18_yes'] / peds_df['total']) * 10**5\n",
    "peds_df = peds_df.join(zcta_shape)\n",
    "\n",
    "def geoplot(df, col, title, export=False):\n",
    "    fig, ax = plt.subplots(figsize = (15,5))\n",
    "    gpd.GeoDataFrame(df).plot(col, figsize=[12,9], legend=True, cmap=\"YlOrRd\", ax=ax)\n",
    "    ax.set_title(title)\n",
    "    plt.tight_layout()\n",
    "    if export:\n",
    "        plt.savefig(os.path.join('out',f'{col}.png'),format = 'png',bbox_inches='tight')\n",
    "    plt.show()\n",
    "\n",
    "geoplot(peds_df, \"peds_100k\", \"Children <18 per 100k by ZCTA (2019)\")"
   ]
  }
 ],
 "metadata": {
  "kernelspec": {
   "display_name": "env",
   "language": "python",
   "name": "python3"
  },
  "language_info": {
   "codemirror_mode": {
    "name": "ipython",
    "version": 3
   },
   "file_extension": ".py",
   "mimetype": "text/x-python",
   "name": "python",
   "nbconvert_exporter": "python",
   "pygments_lexer": "ipython3",
   "version": "3.8.3 (tags/v3.8.3:6f8c832, May 13 2020, 22:37:02) [MSC v.1924 64 bit (AMD64)]"
  },
  "vscode": {
   "interpreter": {
    "hash": "5f021c82b67ceeec82e3182178b032052f07d4c492f6f751b3580f7538c64e95"
   }
  }
 },
 "nbformat": 4,
 "nbformat_minor": 2
}
