{
 "cells": [
  {
   "attachments": {},
   "cell_type": "markdown",
   "metadata": {},
   "source": [
    "# Load ZIP-ZCTA Crosswalk\n",
    "This script combines files mapping zip code to zip code tabulation area (zcta).\n",
    "> Pre-requisites\n",
    "> - ZIP-ZCTA flat files should be downloaded to data/zip_zcta/\" from the\n",
    "[UDS Mapper](https://udsmapper.org/zip-code-to-zcta-crosswalk/)"
   ]
  },
  {
   "cell_type": "code",
   "execution_count": null,
   "metadata": {},
   "outputs": [],
   "source": [
    "import math\n",
    "import pandas as pd"
   ]
  },
  {
   "cell_type": "code",
   "execution_count": null,
   "metadata": {},
   "outputs": [],
   "source": [
    "# Load zip-zcta xref by year\n",
    "years = []\n",
    "cols = ['YEAR','ZIP_CODE','PO_NAME','STATE','ZCTA']\n",
    "for yyyy in range(2016,2022):\n",
    "    print(f'Loading {yyyy}...')\n",
    "    file = f'data/zip_zcta/ZIPCodetoZCTACrosswalk{yyyy}UDS.xlsx'\n",
    "    year_df = pd.read_excel(file)\n",
    "    year_df.columns = [c.upper() for c in year_df.columns]\n",
    "    year_df['YEAR'] = yyyy\n",
    "    year_df = year_df[year_df.STATE=='VA']\n",
    "    year_df.ZCTA = year_df.ZCTA.astype(int)\n",
    "    years.append(year_df[cols])\n",
    "    \n",
    "df = pd.concat(years)\n",
    "df.to_csv('out/zip_zcta_year.csv',index=False)"
   ]
  },
  {
   "cell_type": "code",
   "execution_count": null,
   "metadata": {},
   "outputs": [],
   "source": [
    "# Eyeball the counts to make sure they look right\n",
    "df.groupby(['YEAR'])['ZIP_CODE'].count()"
   ]
  }
 ],
 "metadata": {
  "kernelspec": {
   "display_name": "env",
   "language": "python",
   "name": "python3"
  },
  "language_info": {
   "codemirror_mode": {
    "name": "ipython",
    "version": 3
   },
   "file_extension": ".py",
   "mimetype": "text/x-python",
   "name": "python",
   "nbconvert_exporter": "python",
   "pygments_lexer": "ipython3",
   "version": "3.8.3 (tags/v3.8.3:6f8c832, May 13 2020, 22:37:02) [MSC v.1924 64 bit (AMD64)]"
  },
  "vscode": {
   "interpreter": {
    "hash": "1c165fb6af4fb43fceb331ba6b8c8a711623f803981e3e66fed9990ff75c68af"
   }
  }
 },
 "nbformat": 4,
 "nbformat_minor": 4
}
