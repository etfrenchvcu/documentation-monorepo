{
 "cells": [
  {
   "attachments": {},
   "cell_type": "markdown",
   "metadata": {},
   "source": [
    "# Create a heatmap to visualize population data\n",
    "This is nice for showing things like disease prevalence, etc. For demonstration\n",
    "purposes, we'll just show the rate of kids per 100k residents by ZCTA in VA."
   ]
  },
  {
   "cell_type": "code",
   "execution_count": null,
   "metadata": {},
   "outputs": [],
   "source": [
    "import os\n",
    "import pandas as pd\n",
    "\n",
    "import censusdata\n",
    "import geopandas as gpd\n",
    "import matplotlib.pyplot as plt\n",
    "from us import states"
   ]
  },
  {
   "cell_type": "code",
   "execution_count": null,
   "metadata": {},
   "outputs": [],
   "source": [
    "# Download total population by ZCTA in Virginia\n",
    "geo = censusdata.censusgeo([('state', states.VA.fips), \n",
    "                            ('zip code tabulation area', '*')])\n",
    "va_pop = censusdata.download(src='acs5', year=2019, geo=geo, var=['B01003_001E'])\n",
    "va_pop['zcta'] = [x.geo[-1][1] for x in va_pop.index]\n",
    "va_pop.set_index('zcta', inplace=True)\n",
    "va_pop.columns = ['population']\n",
    "va_pop.head()"
   ]
  },
  {
   "cell_type": "code",
   "execution_count": null,
   "metadata": {},
   "outputs": [],
   "source": [
    "# Download ZCTA-level shape data from the census bureau.\n",
    "URL = 'https://www2.census.gov/geo/tiger/TIGER2019/ZCTA5/tl_2019_us_zcta510.zip'\n",
    "zcta_shape = gpd.read_file(URL)[['ZCTA5CE10', 'geometry']]\n",
    "zcta_shape.set_index('ZCTA5CE10', inplace=True)\n",
    "zcta_shape.head()"
   ]
  },
  {
   "cell_type": "code",
   "execution_count": null,
   "metadata": {},
   "outputs": [],
   "source": [
    "df = va_pop.join(zcta_shape)\n",
    "\n",
    "def geoplot(df, col, title, export=False):\n",
    "    fig, ax = plt.subplots(figsize = (15,5))\n",
    "    (gpd\n",
    "        .GeoDataFrame(df)\n",
    "        .plot(col, figsize=[12,9], legend=True, cmap=\"Blues\", ax=ax))\n",
    "    ax.set_title(title)\n",
    "    plt.tight_layout()\n",
    "    if export:\n",
    "        plt.savefig(os.path.join('out',f'{col}.png'),format = 'png',\n",
    "                    bbox_inches='tight')\n",
    "    plt.show()\n",
    "\n",
    "geoplot(df, \"population\", \"Virginia population by ZCTA (2019)\", export=True)"
   ]
  },
  {
   "attachments": {},
   "cell_type": "markdown",
   "metadata": {},
   "source": [
    "![Alt text](out/population.png)"
   ]
  }
 ],
 "metadata": {
  "kernelspec": {
   "display_name": "env",
   "language": "python",
   "name": "python3"
  },
  "language_info": {
   "codemirror_mode": {
    "name": "ipython",
    "version": 3
   },
   "file_extension": ".py",
   "mimetype": "text/x-python",
   "name": "python",
   "nbconvert_exporter": "python",
   "pygments_lexer": "ipython3",
   "version": "3.8.3"
  },
  "vscode": {
   "interpreter": {
    "hash": "1c165fb6af4fb43fceb331ba6b8c8a711623f803981e3e66fed9990ff75c68af"
   }
  }
 },
 "nbformat": 4,
 "nbformat_minor": 2
}
