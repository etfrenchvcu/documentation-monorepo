{
 "cells": [
  {
   "attachments": {},
   "cell_type": "markdown",
   "metadata": {},
   "source": [
    "# Load ZIP-TRACT Crosswalk\n",
    "This script combines files mapping zip code to census tract\n",
    "> Pre-requisites\n",
    "> - ZIP-TRACT flat files should be downloaded to data/zip_tract/\" from the\n",
    "[HUD portal](https://www.huduser.gov/portal/datasets/usps_crosswalk.html#data)"
   ]
  },
  {
   "cell_type": "code",
   "execution_count": null,
   "metadata": {},
   "outputs": [],
   "source": [
    "import math\n",
    "import pandas as pd"
   ]
  },
  {
   "cell_type": "code",
   "execution_count": null,
   "metadata": {},
   "outputs": [],
   "source": [
    "# Load zip-tract xref by year\n",
    "years = []\n",
    "cols = ['YEAR','ZIP','TRACT','RES_RATIO','BUS_RATIO','OTH_RATIO','TOT_RATIO']\n",
    "for yyyy in range(2015,2022):\n",
    "    print(f'Loading {yyyy}...')\n",
    "    file = f'data/zip_tract/ZIP_TRACT_03{yyyy}.xlsx'\n",
    "    year_df = pd.read_excel(file)\n",
    "    year_df.columns = [c.upper() for c in year_df.columns]\n",
    "    year_df['YEAR'] = yyyy\n",
    "    years.append(year_df[cols])    \n",
    "df = pd.concat(years)\n",
    "df.to_csv('out/zip_tract.csv',index=False)"
   ]
  },
  {
   "cell_type": "code",
   "execution_count": null,
   "metadata": {},
   "outputs": [],
   "source": [
    "# Verify ratios splitting for zip codes into tracts all sum to 1.\n",
    "zip_ratios = df.groupby(['ZIP','YEAR']).sum()['TOT_RATIO']\n",
    "assert math.isclose(zip_ratios.min(), 1, rel_tol=1e-3), \"Max ratio <1\"\n",
    "assert math.isclose(zip_ratios.max(), 1, rel_tol=1e-3), \"Max ratio >1\""
   ]
  }
 ],
 "metadata": {
  "kernelspec": {
   "display_name": "env",
   "language": "python",
   "name": "python3"
  },
  "language_info": {
   "codemirror_mode": {
    "name": "ipython",
    "version": 3
   },
   "file_extension": ".py",
   "mimetype": "text/x-python",
   "name": "python",
   "nbconvert_exporter": "python",
   "pygments_lexer": "ipython3",
   "version": "3.8.3 (tags/v3.8.3:6f8c832, May 13 2020, 22:37:02) [MSC v.1924 64 bit (AMD64)]"
  },
  "vscode": {
   "interpreter": {
    "hash": "5f021c82b67ceeec82e3182178b032052f07d4c492f6f751b3580f7538c64e95"
   }
  }
 },
 "nbformat": 4,
 "nbformat_minor": 4
}
