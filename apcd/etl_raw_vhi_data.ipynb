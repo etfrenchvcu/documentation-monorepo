{
 "cells": [
  {
   "attachments": {},
   "cell_type": "markdown",
   "metadata": {},
   "source": [
    "# ETL Process for Raw VHI Data\n",
    "Virginia Health Information (VHI) is the curator and provider of APCD data.\n",
    "VCU receives an annual load of a calendar year's worth of claims with \n",
    "approximately a one year delay.\n",
    "\n",
    "This document outlines the process for receiving raw data from VHI and \n",
    "transforming it into the VCU-formatted APCD database."
   ]
  },
  {
   "attachments": {},
   "cell_type": "markdown",
   "metadata": {},
   "source": [
    "## Getting the data from VHI\n",
    "VHI will send VCU *XXX* files (list here) via SFTP to *XXX* server located \n",
    "owned by SOMTECH. This process has historically been facilitated by James Percy \n",
    "(James.Percy@vcuhealth.org) with the secondary contact of Brian Bush \n",
    "(brian.bush@vcuhealth.org). Each file must be manually loaded into a table in \n",
    "the APCD_RAW schema using the SSMS \"Import Flat File\" wizard or a BULK INSERT \n",
    "statement.\n",
    "\n",
    "Flat files sent by VHI\n",
    "- pharmacy claims\n",
    "- ..."
   ]
  },
  {
   "cell_type": "markdown",
   "metadata": {},
   "source": []
  }
 ],
 "metadata": {
  "kernelspec": {
   "display_name": "Python 3",
   "language": "python",
   "name": "python3"
  },
  "language_info": {
   "name": "python",
   "version": "3.7.13 (default, Mar 28 2022, 08:03:21) [MSC v.1916 64 bit (AMD64)]"
  },
  "vscode": {
   "interpreter": {
    "hash": "57b7d7d30539f4ad89047bb6b77e0cfff0c312110d9c013dfbbbb6bb9901855d"
   }
  }
 },
 "nbformat": 4,
 "nbformat_minor": 2
}
